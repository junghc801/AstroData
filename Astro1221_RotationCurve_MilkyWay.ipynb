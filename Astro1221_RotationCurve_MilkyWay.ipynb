{
  "cells": [
    {
      "cell_type": "markdown",
      "metadata": {
        "id": "view-in-github",
        "colab_type": "text"
      },
      "source": [
        "<a href=\"https://colab.research.google.com/github/junghc801/AstroData/blob/main/Astro1221_RotationCurve_MilkyWay.ipynb\" target=\"_parent\"><img src=\"https://colab.research.google.com/assets/colab-badge.svg\" alt=\"Open In Colab\"/></a>"
      ]
    },
    {
      "cell_type": "code",
      "execution_count": 2,
      "metadata": {
        "id": "0Ll0sHRSKGOu"
      },
      "outputs": [],
      "source": [
        "import astropy.constants as const\n",
        "import astropy.units as u\n",
        "import numpy as np\n",
        "import matplotlib.pyplot as plt"
      ]
    },
    {
      "cell_type": "code",
      "execution_count": 3,
      "metadata": {
        "colab": {
          "base_uri": "https://localhost:8080/",
          "height": 81
        },
        "id": "ZHge8iDAoGM8",
        "outputId": "e0822b51-7a4a-4e74-d94e-6dc44e27597a"
      },
      "outputs": [
        {
          "output_type": "display_data",
          "data": {
            "text/plain": [
              "<IPython.core.display.HTML object>"
            ],
            "text/html": [
              "\n",
              "     <input type=\"file\" id=\"files-a9dbbb92-b7d7-4d9e-be09-9840304719a2\" name=\"files[]\" multiple disabled\n",
              "        style=\"border:none\" />\n",
              "     <output id=\"result-a9dbbb92-b7d7-4d9e-be09-9840304719a2\">\n",
              "      Upload widget is only available when the cell has been executed in the\n",
              "      current browser session. Please rerun this cell to enable.\n",
              "      </output>\n",
              "      <script>// Copyright 2017 Google LLC\n",
              "//\n",
              "// Licensed under the Apache License, Version 2.0 (the \"License\");\n",
              "// you may not use this file except in compliance with the License.\n",
              "// You may obtain a copy of the License at\n",
              "//\n",
              "//      http://www.apache.org/licenses/LICENSE-2.0\n",
              "//\n",
              "// Unless required by applicable law or agreed to in writing, software\n",
              "// distributed under the License is distributed on an \"AS IS\" BASIS,\n",
              "// WITHOUT WARRANTIES OR CONDITIONS OF ANY KIND, either express or implied.\n",
              "// See the License for the specific language governing permissions and\n",
              "// limitations under the License.\n",
              "\n",
              "/**\n",
              " * @fileoverview Helpers for google.colab Python module.\n",
              " */\n",
              "(function(scope) {\n",
              "function span(text, styleAttributes = {}) {\n",
              "  const element = document.createElement('span');\n",
              "  element.textContent = text;\n",
              "  for (const key of Object.keys(styleAttributes)) {\n",
              "    element.style[key] = styleAttributes[key];\n",
              "  }\n",
              "  return element;\n",
              "}\n",
              "\n",
              "// Max number of bytes which will be uploaded at a time.\n",
              "const MAX_PAYLOAD_SIZE = 100 * 1024;\n",
              "\n",
              "function _uploadFiles(inputId, outputId) {\n",
              "  const steps = uploadFilesStep(inputId, outputId);\n",
              "  const outputElement = document.getElementById(outputId);\n",
              "  // Cache steps on the outputElement to make it available for the next call\n",
              "  // to uploadFilesContinue from Python.\n",
              "  outputElement.steps = steps;\n",
              "\n",
              "  return _uploadFilesContinue(outputId);\n",
              "}\n",
              "\n",
              "// This is roughly an async generator (not supported in the browser yet),\n",
              "// where there are multiple asynchronous steps and the Python side is going\n",
              "// to poll for completion of each step.\n",
              "// This uses a Promise to block the python side on completion of each step,\n",
              "// then passes the result of the previous step as the input to the next step.\n",
              "function _uploadFilesContinue(outputId) {\n",
              "  const outputElement = document.getElementById(outputId);\n",
              "  const steps = outputElement.steps;\n",
              "\n",
              "  const next = steps.next(outputElement.lastPromiseValue);\n",
              "  return Promise.resolve(next.value.promise).then((value) => {\n",
              "    // Cache the last promise value to make it available to the next\n",
              "    // step of the generator.\n",
              "    outputElement.lastPromiseValue = value;\n",
              "    return next.value.response;\n",
              "  });\n",
              "}\n",
              "\n",
              "/**\n",
              " * Generator function which is called between each async step of the upload\n",
              " * process.\n",
              " * @param {string} inputId Element ID of the input file picker element.\n",
              " * @param {string} outputId Element ID of the output display.\n",
              " * @return {!Iterable<!Object>} Iterable of next steps.\n",
              " */\n",
              "function* uploadFilesStep(inputId, outputId) {\n",
              "  const inputElement = document.getElementById(inputId);\n",
              "  inputElement.disabled = false;\n",
              "\n",
              "  const outputElement = document.getElementById(outputId);\n",
              "  outputElement.innerHTML = '';\n",
              "\n",
              "  const pickedPromise = new Promise((resolve) => {\n",
              "    inputElement.addEventListener('change', (e) => {\n",
              "      resolve(e.target.files);\n",
              "    });\n",
              "  });\n",
              "\n",
              "  const cancel = document.createElement('button');\n",
              "  inputElement.parentElement.appendChild(cancel);\n",
              "  cancel.textContent = 'Cancel upload';\n",
              "  const cancelPromise = new Promise((resolve) => {\n",
              "    cancel.onclick = () => {\n",
              "      resolve(null);\n",
              "    };\n",
              "  });\n",
              "\n",
              "  // Wait for the user to pick the files.\n",
              "  const files = yield {\n",
              "    promise: Promise.race([pickedPromise, cancelPromise]),\n",
              "    response: {\n",
              "      action: 'starting',\n",
              "    }\n",
              "  };\n",
              "\n",
              "  cancel.remove();\n",
              "\n",
              "  // Disable the input element since further picks are not allowed.\n",
              "  inputElement.disabled = true;\n",
              "\n",
              "  if (!files) {\n",
              "    return {\n",
              "      response: {\n",
              "        action: 'complete',\n",
              "      }\n",
              "    };\n",
              "  }\n",
              "\n",
              "  for (const file of files) {\n",
              "    const li = document.createElement('li');\n",
              "    li.append(span(file.name, {fontWeight: 'bold'}));\n",
              "    li.append(span(\n",
              "        `(${file.type || 'n/a'}) - ${file.size} bytes, ` +\n",
              "        `last modified: ${\n",
              "            file.lastModifiedDate ? file.lastModifiedDate.toLocaleDateString() :\n",
              "                                    'n/a'} - `));\n",
              "    const percent = span('0% done');\n",
              "    li.appendChild(percent);\n",
              "\n",
              "    outputElement.appendChild(li);\n",
              "\n",
              "    const fileDataPromise = new Promise((resolve) => {\n",
              "      const reader = new FileReader();\n",
              "      reader.onload = (e) => {\n",
              "        resolve(e.target.result);\n",
              "      };\n",
              "      reader.readAsArrayBuffer(file);\n",
              "    });\n",
              "    // Wait for the data to be ready.\n",
              "    let fileData = yield {\n",
              "      promise: fileDataPromise,\n",
              "      response: {\n",
              "        action: 'continue',\n",
              "      }\n",
              "    };\n",
              "\n",
              "    // Use a chunked sending to avoid message size limits. See b/62115660.\n",
              "    let position = 0;\n",
              "    do {\n",
              "      const length = Math.min(fileData.byteLength - position, MAX_PAYLOAD_SIZE);\n",
              "      const chunk = new Uint8Array(fileData, position, length);\n",
              "      position += length;\n",
              "\n",
              "      const base64 = btoa(String.fromCharCode.apply(null, chunk));\n",
              "      yield {\n",
              "        response: {\n",
              "          action: 'append',\n",
              "          file: file.name,\n",
              "          data: base64,\n",
              "        },\n",
              "      };\n",
              "\n",
              "      let percentDone = fileData.byteLength === 0 ?\n",
              "          100 :\n",
              "          Math.round((position / fileData.byteLength) * 100);\n",
              "      percent.textContent = `${percentDone}% done`;\n",
              "\n",
              "    } while (position < fileData.byteLength);\n",
              "  }\n",
              "\n",
              "  // All done.\n",
              "  yield {\n",
              "    response: {\n",
              "      action: 'complete',\n",
              "    }\n",
              "  };\n",
              "}\n",
              "\n",
              "scope.google = scope.google || {};\n",
              "scope.google.colab = scope.google.colab || {};\n",
              "scope.google.colab._files = {\n",
              "  _uploadFiles,\n",
              "  _uploadFilesContinue,\n",
              "};\n",
              "})(self);\n",
              "</script> "
            ]
          },
          "metadata": {}
        },
        {
          "output_type": "stream",
          "name": "stdout",
          "text": [
            "Saving galaxy_rotation_2006.txt to galaxy_rotation_2006.txt\n"
          ]
        }
      ],
      "source": [
        "from google.colab import files\n",
        "uploaded = files.upload()"
      ]
    },
    {
      "cell_type": "code",
      "execution_count": 4,
      "metadata": {
        "id": "U_53P9jIoL6i"
      },
      "outputs": [],
      "source": [
        "# Read in the file\n",
        "import astropy.io.ascii\n",
        "tab = astropy.io.ascii.read(\"galaxy_rotation_2006.txt\")"
      ]
    },
    {
      "cell_type": "code",
      "execution_count": 5,
      "metadata": {
        "id": "3kX5s7rnKlSr"
      },
      "outputs": [],
      "source": [
        "'''\n",
        "Calcualte the orbital velocity\n",
        "@param: mass, radius\n",
        "@return: orbital velocity\n",
        "'''\n",
        "def orbital_velocity(mass, radius):\n",
        "  G = const.G\n",
        "  v = np.sqrt(G * mass / radius)\n",
        "  # velocity = np.sqrt(ac.G * mass / radius)\n",
        "  return v"
      ]
    },
    {
      "cell_type": "code",
      "execution_count": 17,
      "metadata": {
        "id": "cddpgZYWS94i"
      },
      "outputs": [],
      "source": [
        "'''\n",
        "Calculate the enclosed mass for a halo component\n",
        "@param radius\n",
        "          orbital radius\n",
        "        density\n",
        "          density of the disk\n",
        "@return mass\n",
        "          enclosed mass\n",
        "'''\n",
        "def enclosedMassForDisk (radius, density):\n",
        "   if radius < 10 * u.kpc:\n",
        "        mass = np.pi * (radius**2) * density\n",
        "   else:\n",
        "        radius = 10 * u.kpc # any radius larger than 10 kpc will be trucated at 10 kpc because of the extent of the disk component\n",
        "        mass = np.pi * (radius**2) * density\n",
        "   return mass"
      ]
    },
    {
      "cell_type": "markdown",
      "source": [],
      "metadata": {
        "id": "IZXxqMqCvlQq"
      }
    },
    {
      "cell_type": "code",
      "execution_count": 7,
      "metadata": {
        "id": "jA0SVOXAkoHV"
      },
      "outputs": [],
      "source": [
        "'''\n",
        "Calculate the enclosed mass for a halo component\n",
        "@param radius\n",
        "          orbital radius\n",
        "        density\n",
        "          density of the halo\n",
        "@return mass\n",
        "          enclosed mass\n",
        "'''\n",
        "def enclosedMassForHalo (radius, density):\n",
        "   if radius < 35 * u.kpc:\n",
        "        mass = (4 / 3 * np.pi * (radius**3)) * density\n",
        "   else:\n",
        "        radius = 35 * u.kpc # any radius larger than 10 kpc will be trucated at 10 kpc because of the extent of the disk component\n",
        "        mass = (4 / 3 * np.pi * (radius**3)) * density\n",
        "   return mass"
      ]
    },
    {
      "cell_type": "code",
      "execution_count": 8,
      "metadata": {
        "id": "5EZYNELolYGL"
      },
      "outputs": [],
      "source": [
        "def enclosedMassForTotalMilkyWay(radius, density_disk, density_halo,  mass_bulge = 1e10 * u.solMass):\n",
        "\n",
        "    mass_disk = enclosedMassForDisk(radius, density_disk)\n",
        "    mass_halo = enclosedMassForHalo(radius, density_halo)\n",
        "    mass_total = mass_disk + mass_bulge + mass_halo\n",
        "    return(mass_total)"
      ]
    },
    {
      "cell_type": "code",
      "source": [
        "mass_bulge = 1e10 * u.solMass\n",
        "mass_disk = 1.5e11 * u.solMass # Define disk total mass\n",
        "radius_disk = 10 * u.kpc # Define the outer edge of disk radius\n",
        "density_disk = mass_disk / (np.pi * (radius_disk**2)) # here the density is in the unit of solar mass per square kpc\n",
        "\n",
        "\n",
        "'''===================================================================================================================='''\n",
        "mass_halo = (3e11) * u.solMass # Define halo total mass\n",
        "radius_halo = 35 * u.kpc # Define the halo radius\n",
        "'''===================================================================================================================='''\n",
        "density_halo = mass_halo / (4 / 3 * np.pi * (radius_halo**3)) # here the density is in the unit of solar mass per cubic kpc\n",
        "print(density_halo.to(u.solMass/u.kpc**3))\n",
        "\n",
        "# Define arrays to be calculated\n",
        "radius_array = np.arange(5, 35,  0.01) * u.kpc\n",
        "mass_bulge = np.zeros(len(radius_array)) * u.solMass\n",
        "mass_disk = np.zeros(len(radius_array)) * u.solMass\n",
        "mass_halo = np.zeros(len(radius_array)) * u.solMass\n",
        "mass_total = np.zeros(len(radius_array)) * u.solMass\n",
        "\n",
        "# Calculating enclosed masses for the disk and total component\n",
        "for i in np.arange(len(radius_array)):\n",
        "    mass_bulge[i] = 1e10 * u.solMass\n",
        "    mass_disk[i] = enclosedMassForDisk(radius_array[i], density_disk)\n",
        "    mass_halo[i] = enclosedMassForHalo(radius_array[i], density_halo)\n",
        "    mass_total[i] = enclosedMassForTotalMilkyWay(radius_array[i], density_disk, density_halo)\n",
        "\n",
        "# Calculating the resulting orbital velocity due to each component\n",
        "# velocity_bulge_array = orbital_velocity(mass_bulge, radius_array)\n",
        "velocity_bulge_array = orbital_velocity(mass_bulge, radius_array)\n",
        "velocity_disk_array = orbital_velocity(mass_disk, radius_array)\n",
        "velocity_halo_array = orbital_velocity(mass_halo, radius_array)\n",
        "velocity_total_array = orbital_velocity(mass_total, radius_array)\n",
        "\n",
        "# Plot the data\n",
        "plt.errorbar(tab[\"col2\"], tab[\"col3\"], yerr=tab[\"col4\"], ecolor=\"black\", color=\"black\", fmt='o', label=\"Data\")\n",
        "\n",
        "plt.plot(radius_array.to(u.kpc), velocity_bulge_array.to(u.km/u.s), color=\"red\", label=\"Bulge\") # note that here we can add label to the rotation curve caused by the Bulge\n",
        "plt.plot(radius_array.to(u.kpc), velocity_disk_array.to(u.km/u.s), color=\"blue\", label=\"Disk\") # plotting disk\n",
        "plt.plot(radius_array.to(u.kpc), velocity_halo_array.to(u.km/u.s), color=\"orange\", label=\"Halo\")\n",
        "plt.plot(radius_array.to(u.kpc), velocity_total_array.to(u.km/u.s), color=\"purple\", label=\"Total\")\n",
        "plt.xlabel('R (kpc)')\n",
        "plt.ylabel('v (km/s)')\n",
        "plt.legend() # to show the legend of a figure\n",
        "plt.show()"
      ],
      "metadata": {
        "colab": {
          "base_uri": "https://localhost:8080/",
          "height": 466
        },
        "id": "mVJsZRkwoEU5",
        "outputId": "ab715a1a-76ed-480c-a6e5-22dd8e18230b"
      },
      "execution_count": 32,
      "outputs": [
        {
          "output_type": "stream",
          "name": "stdout",
          "text": [
            "1670430.8895942369 solMass / kpc3\n"
          ]
        },
        {
          "output_type": "display_data",
          "data": {
            "text/plain": [
              "<Figure size 640x480 with 1 Axes>"
            ],
            "image/png": "[encoded data removed]"
          },
          "metadata": {}
        }
      ]
    }
  ],
  "metadata": {
    "colab": {
      "provenance": [],
      "authorship_tag": "ABX9TyNaCvZGm5xqDwUpGcEEov34",
      "include_colab_link": true
    },
    "kernelspec": {
      "display_name": "Python 3",
      "name": "python3"
    },
    "language_info": {
      "name": "python"
    }
  },
  "nbformat": 4,
  "nbformat_minor": 0
}