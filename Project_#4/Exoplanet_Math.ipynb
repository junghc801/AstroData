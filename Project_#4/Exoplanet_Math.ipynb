{
  "nbformat": 4,
  "nbformat_minor": 0,
  "metadata": {
    "colab": {
      "provenance": [],
      "authorship_tag": "ABX9TyNrluVP17RGIZVl99MLqI1r",
      "include_colab_link": true
    },
    "kernelspec": {
      "name": "python3",
      "display_name": "Python 3"
    },
    "language_info": {
      "name": "python"
    }
  },
  "cells": [
    {
      "cell_type": "markdown",
      "metadata": {
        "id": "view-in-github",
        "colab_type": "text"
      },
      "source": [
        "<a href=\"https://colab.research.google.com/github/junghc801/Astronomy_Data_Analysis/blob/main/Project_%234/Exoplanet_Math.ipynb\" target=\"_parent\"><img src=\"https://colab.research.google.com/assets/colab-badge.svg\" alt=\"Open In Colab\"/></a>"
      ]
    },
    {
      "cell_type": "markdown",
      "source": [
        "Age, Structure, Life, Mass, Size, Chemical Composition -> life mass, size -> structure"
      ],
      "metadata": {
        "id": "gHaDSTDn4emv"
      }
    },
    {
      "cell_type": "markdown",
      "source": [
        "$\\delta = (\\frac{R_{planet}}{R_{star}})^2$\n"
      ],
      "metadata": {
        "id": "43Ds56JQ5lUb"
      }
    },
    {
      "cell_type": "markdown",
      "source": [
        "to solve for $R_{planet},$\n",
        "$ \\ \\  \\ R_{planet} = sqrt(\\delta) \\times R_{star}$"
      ],
      "metadata": {
        "id": "TjtnJyEu7wbX"
      }
    },
    {
      "cell_type": "code",
      "source": [
        "# import libraries to calculate\n",
        "import astropy.units as u\n",
        "import astropy.constants as c"
      ],
      "metadata": {
        "id": "vPtYk7LQ54PB"
      },
      "execution_count": 2,
      "outputs": []
    },
    {
      "cell_type": "code",
      "source": [
        "delta = (u.earthRad / u.solRad)**2 # calculate delta\n",
        "print(delta.decompose()) # make it unitless"
      ],
      "metadata": {
        "colab": {
          "base_uri": "https://localhost:8080/"
        },
        "id": "TairWJk5569C",
        "outputId": "9f8cc6a0-41aa-4cf6-8856-b5bae2dd0367"
      },
      "execution_count": 3,
      "outputs": [
        {
          "output_type": "stream",
          "name": "stdout",
          "text": [
            "8.40502e-05\n"
          ]
        }
      ]
    },
    {
      "cell_type": "code",
      "source": [
        "delta_jupiter_sun = (u.jupiterRad / u.solRad)**2 # calculate delta\n",
        "print(delta_jupiter_sun.decompose()) # make it unitless"
      ],
      "metadata": {
        "colab": {
          "base_uri": "https://localhost:8080/"
        },
        "id": "_ki_aZzS6ZF0",
        "outputId": "fa1438d2-e7b9-414a-a0bd-c19440937629"
      },
      "execution_count": 4,
      "outputs": [
        {
          "output_type": "stream",
          "name": "stdout",
          "text": [
            "0.0105602\n"
          ]
        }
      ]
    },
    {
      "cell_type": "markdown",
      "source": [
        "$v_{orb} = \\sqrt{\\frac{GM}{a}}$"
      ],
      "metadata": {
        "id": "tQ1pZM0E8jwc"
      }
    },
    {
      "cell_type": "code",
      "source": [
        "import numpy as np # import a library to calculate"
      ],
      "metadata": {
        "id": "X74XqtUX6e6l"
      },
      "execution_count": 5,
      "outputs": []
    },
    {
      "cell_type": "code",
      "source": [
        "v_orb_earth = np.sqrt(c.G * u.solMass / u.AU) # orbital velocity of Earth\n",
        "print(v_orb_earth.to(u.m/u.s)) # print the value"
      ],
      "metadata": {
        "colab": {
          "base_uri": "https://localhost:8080/"
        },
        "id": "Ty4GdMNO85eD",
        "outputId": "9dcce7be-2e5f-4d3b-8f3d-bcb835862725"
      },
      "execution_count": 6,
      "outputs": [
        {
          "output_type": "stream",
          "name": "stdout",
          "text": [
            "29784.691829676933 m / s\n"
          ]
        }
      ]
    },
    {
      "cell_type": "markdown",
      "source": [
        "Since $m_p v_p = m_s v_s, \\ \\ $\n",
        "$v_s = \\frac{m_p}{m_s} \\times v_p$"
      ],
      "metadata": {
        "id": "XmeCeDCr9MAD"
      }
    },
    {
      "cell_type": "code",
      "source": [
        "v_sun = u.earthMass / u.solMass * v_orb_earth # orbital velocity of Sun\n",
        "print(v_sun.to(u.m/u.s)) # print the value"
      ],
      "metadata": {
        "colab": {
          "base_uri": "https://localhost:8080/"
        },
        "id": "7DCdPhtE9KXm",
        "outputId": "9eec9e0a-ff16-496f-fa87-1cb0835c88a9"
      },
      "execution_count": 7,
      "outputs": [
        {
          "output_type": "stream",
          "name": "stdout",
          "text": [
            "0.08945800466923791 m / s\n"
          ]
        }
      ]
    },
    {
      "cell_type": "markdown",
      "source": [
        "$v_s = 0.09 (m/s) \\times$\n",
        "$(\\frac{m_p}{m_⊕})(\\frac{P}{1yr})^ {-\\frac{1}{3}}$"
      ],
      "metadata": {
        "id": "_ZSKoBYuBkK-"
      }
    },
    {
      "cell_type": "code",
      "source": [
        "v_s_jupiter = 0.09 * u.m / u.s * (u.jupiterMass / u.earthMass) * (11.9 * u.yr / u.yr) ** (-1/3) # orbital velocity of Jupiter\n",
        "print(v_s_jupiter.to(u.m / u.s)) # print the value"
      ],
      "metadata": {
        "colab": {
          "base_uri": "https://localhost:8080/"
        },
        "id": "lbhdR9INBgr8",
        "outputId": "298b3c95-0944-4cad-bc74-ee24563412b1"
      },
      "execution_count": 10,
      "outputs": [
        {
          "output_type": "stream",
          "name": "stdout",
          "text": [
            "12.529091077198903 m / s\n"
          ]
        }
      ]
    },
    {
      "cell_type": "code",
      "source": [
        "(u.jupiterMass / u.earthMass).decompose() # mass ratio"
      ],
      "metadata": {
        "id": "zQ_K_Yno2sw7",
        "outputId": "4cce914f-2658-4570-8f02-9c455498ae33",
        "colab": {
          "base_uri": "https://localhost:8080/",
          "height": 37
        }
      },
      "execution_count": 8,
      "outputs": [
        {
          "output_type": "execute_result",
          "data": {
            "text/plain": [
              "Unit(dimensionless with a scale of 317.8284065946748)"
            ],
            "text/latex": "$\\mathrm{317.82841}$"
          },
          "metadata": {},
          "execution_count": 8
        }
      ]
    },
    {
      "cell_type": "code",
      "source": [
        "rho_earth = u.earthMass / (4 * np.pi * u.earthRad**3 / 3.0) # density of Earth\n",
        "print(rho_earth.to(u.g / u.cm**3)) # print the value"
      ],
      "metadata": {
        "colab": {
          "base_uri": "https://localhost:8080/"
        },
        "id": "Pz3u42U-C9s1",
        "outputId": "33b0b60a-95fc-4614-841b-792736c6ff28"
      },
      "execution_count": 11,
      "outputs": [
        {
          "output_type": "stream",
          "name": "stdout",
          "text": [
            "5.495021865555213 g / cm3\n"
          ]
        }
      ]
    }
  ]
}